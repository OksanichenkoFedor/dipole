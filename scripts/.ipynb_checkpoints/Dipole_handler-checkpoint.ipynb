{
 "cells": [
  {
   "cell_type": "code",
   "execution_count": 42,
   "id": "6044a397-e4e9-4095-88a7-f49d84559a88",
   "metadata": {},
   "outputs": [
    {
     "name": "stdout",
     "output_type": "stream",
     "text": [
      "/home/common/studtscm03/project_dipole/dumps\n"
     ]
    }
   ],
   "source": [
    "cd ~/project_dipole/dumps"
   ]
  },
  {
   "cell_type": "code",
   "execution_count": 43,
   "id": "9b863218-3b0b-4118-86fd-a01364108ed2",
   "metadata": {},
   "outputs": [
    {
     "name": "stdout",
     "output_type": "stream",
     "text": [
      "dump.dipole1   dump.dipole2  dump.dipole4  dump.dipole6  dump.dipole8\n",
      "dump.dipole10  dump.dipole3  dump.dipole5  dump.dipole7  dump.dipole9\n"
     ]
    }
   ],
   "source": [
    "ls"
   ]
  },
  {
   "cell_type": "code",
   "execution_count": 33,
   "id": "1d76eb54-5445-4d90-b3a7-432821a1d890",
   "metadata": {},
   "outputs": [],
   "source": [
    "from funcs_file import input_dump"
   ]
  },
  {
   "cell_type": "code",
   "execution_count": 45,
   "id": "40c1b5f4-a9c5-4bd2-b8d7-79313b23884d",
   "metadata": {},
   "outputs": [],
   "source": [
    "curr_dict = input_dump(\"dump.dipole1\")"
   ]
  },
  {
   "cell_type": "code",
   "execution_count": 36,
   "id": "bfc91831-af61-41d4-8dfd-f8461413be2c",
   "metadata": {},
   "outputs": [
    {
     "data": {
      "text/plain": [
       "(20, 200, 3)"
      ]
     },
     "execution_count": 36,
     "metadata": {},
     "output_type": "execute_result"
    }
   ],
   "source": [
    "np_coords.shape"
   ]
  },
  {
   "cell_type": "code",
   "execution_count": null,
   "id": "e6eddbe1-f2b4-43d4-bbed-9ee23920e5b0",
   "metadata": {},
   "outputs": [],
   "source": []
  }
 ],
 "metadata": {
  "kernelspec": {
   "display_name": "Python 3 (ipykernel)",
   "language": "python",
   "name": "python3"
  },
  "language_info": {
   "codemirror_mode": {
    "name": "ipython",
    "version": 3
   },
   "file_extension": ".py",
   "mimetype": "text/x-python",
   "name": "python",
   "nbconvert_exporter": "python",
   "pygments_lexer": "ipython3",
   "version": "3.9.7"
  }
 },
 "nbformat": 4,
 "nbformat_minor": 5
}
