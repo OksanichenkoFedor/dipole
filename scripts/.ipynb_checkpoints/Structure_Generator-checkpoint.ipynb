{
 "cells": [
  {
   "cell_type": "markdown",
   "id": "2b35d705-681c-40b1-a464-7a0cfd691017",
   "metadata": {},
   "source": [
    "Structure generator: fcc + liquid"
   ]
  },
  {
   "cell_type": "code",
   "execution_count": 2,
   "id": "3c68092e-663d-4810-a270-9d6d23605191",
   "metadata": {},
   "outputs": [],
   "source": [
    "import numpy as np\n",
    "import ase\n",
    "import ase.io as lammpsdata\n",
    "from ase import Atoms\n",
    "from ase.visualize import view"
   ]
  },
  {
   "cell_type": "code",
   "execution_count": 3,
   "id": "8aaeade3-c1a7-401e-943b-3b6aa75907e7",
   "metadata": {},
   "outputs": [],
   "source": [
    "import tqdm"
   ]
  },
  {
   "cell_type": "code",
   "execution_count": 4,
   "id": "97ffdfde-deb0-4534-9b24-3e5a1af698dc",
   "metadata": {},
   "outputs": [],
   "source": [
    "fcc_a = 0.8442\n",
    "n1 = 10\n",
    "n2 = 10\n",
    "n3 = 10\n",
    "N_fluid = 1000"
   ]
  },
  {
   "cell_type": "code",
   "execution_count": 5,
   "id": "53c55411-c56a-462a-a5be-4f85739be873",
   "metadata": {},
   "outputs": [],
   "source": [
    "def cubic_structure(basis, n1, n2, n3, fcc_a):\n",
    "    coordinates = []\n",
    "    a1 = np.array([1,0,0])\n",
    "    a2 = np.array([0,1,0])\n",
    "    a3 = np.array([0,0,1])\n",
    "    for i1 in range(n1):\n",
    "        for i2 in range(n2):\n",
    "            for i3 in range(n3):\n",
    "                for initial in basis:\n",
    "                    coordinates.append((a1*i1+a2*i2+a3*i3)*fcc_a + initial)\n",
    "    return coordinates\n"
   ]
  },
  {
   "cell_type": "code",
   "execution_count": 6,
   "id": "bce19b45-7b0f-40ba-9d48-a5f099811951",
   "metadata": {},
   "outputs": [],
   "source": [
    "def fluid_structure(basis, N, rmin, wall = [0,0,0]):\n",
    "    coordinates = []\n",
    "    N1 = int(wall[0]/rmin)\n",
    "    N2 = int(wall[1]/rmin)\n",
    "    N3 = int(wall[2]/rmin)\n",
    "    N_full = N1*N2*N3\n",
    "    N_choise = np.random.choice(N_full, N)\n",
    "    N_current = 0\n",
    "    for i1 in range(N1):\n",
    "        for i2 in range(N2):\n",
    "            for i3 in range(N3):\n",
    "                if N_current in N_choise:\n",
    "                    coordinates.append(basis+np.array([i1*rmin,i2*rmin,i3*rmin]))\n",
    "                N_current+=1\n",
    "    return coordinates"
   ]
  },
  {
   "cell_type": "code",
   "execution_count": 7,
   "id": "f41e4a9d-b039-45dc-ac46-a971fb093c73",
   "metadata": {},
   "outputs": [],
   "source": [
    "fcc_coordinates = cubic_structure(basis = [\n",
    "                                 np.array([0,0,0]),\n",
    "                                 np.array([0.5,0.5,0])*fcc_a,\n",
    "                                 np.array([0.5,0,0.5])*fcc_a,\n",
    "                                 np.array([0,0.5,0.5])*fcc_a],\n",
    "                                 n1=n1,n2=n2,n3=n3,fcc_a=fcc_a \n",
    "                                  )"
   ]
  },
  {
   "cell_type": "code",
   "execution_count": 8,
   "id": "1f3b6c1f-a832-4c5d-adde-25949ca589c8",
   "metadata": {},
   "outputs": [],
   "source": [
    "fluid_coordinates = fluid_structure(basis=np.array([n1+0.5,0,0]),\n",
    "                                    N=N_fluid, \n",
    "                                    rmin=1, \n",
    "                                    wall = [n1*fcc_a, n2*fcc_a, n3*fcc_a])\n"
   ]
  },
  {
   "cell_type": "code",
   "execution_count": 9,
   "id": "7733f67b-82c2-442a-bb35-86d9ec594823",
   "metadata": {},
   "outputs": [],
   "source": [
    "full_coordinates = fcc_coordinates + fluid_coordinates"
   ]
  },
  {
   "cell_type": "code",
   "execution_count": 10,
   "id": "b68dd9ec-bab1-4ee0-b31a-cc4af703c567",
   "metadata": {},
   "outputs": [
    {
     "data": {
      "text/plain": [
       "4454"
      ]
     },
     "execution_count": 10,
     "metadata": {},
     "output_type": "execute_result"
    }
   ],
   "source": [
    "#full_coordinates\n",
    "len(full_coordinates)"
   ]
  },
  {
   "cell_type": "code",
   "execution_count": 14,
   "id": "f406c206-fc6d-49af-ac6e-4da7a4678ebf",
   "metadata": {},
   "outputs": [
    {
     "data": {
      "application/vnd.jupyter.widget-view+json": {
       "model_id": "283baa1db12346eeba5cc69171fa4cee",
       "version_major": 2,
       "version_minor": 0
      },
      "text/plain": [
       "HBox(children=(NGLWidget(), VBox(children=(Dropdown(description='Show', options=('All', 'H'), value='All'), Dr…"
      ]
     },
     "metadata": {},
     "output_type": "display_data"
    }
   ],
   "source": [
    "h_positions = Atoms('H{:d}'.format(len(full_coordinates), position=full_coordinates))#, cell = [n1*fcc_a, n2*fcc_a])\n",
    "view(h_positions, viewer=\"ngl\")"
   ]
  },
  {
   "cell_type": "code",
   "execution_count": null,
   "id": "121c8f0e-266f-4747-b50c-43f4aad4a62d",
   "metadata": {},
   "outputs": [],
   "source": [
    "########## working code from Teacher, (in you code coordinates are zero)\n",
    "import numpy as np\n",
    "fcc_a=0.8442/0.529\n",
    "n1 = 10\n",
    "n2 = 10\n",
    "n3 = 10\n",
    "N_fluid=500\n",
    "rmin = 1.6\n",
    "def cubic_structure(basis, n1, n2, n3, fcc_a):\n",
    "    coordinates=[]\n",
    "    a1 = np.array([1,0,0])\n",
    "    a2 = np.array([0,1,0])\n",
    "    a3 = np.array([0,0,1])\n",
    "    for i1 in range(n1):\n",
    "        for i2 in range(n2):\n",
    "            for i3 in range(n3):\n",
    "                for initial in basis:\n",
    "                    coordinates.append(\n",
    "                        (a1*i1 + a2*i2 + a3*i3 + initial)*fcc_a)\n",
    "                    \n",
    "    return coordinates\n",
    "\n",
    "fcc_coordinates = cubic_structure(basis=[\n",
    "                    np.array([0,0,0]),\n",
    "                    np.array([0.5, 0.5, 0]),\n",
    "                    np.array([0.5, 0, 0.5]),\n",
    "                    np.array([0, 0.5, 0.5])],\n",
    "                                  n1=n1, n2=n2, n3=n3, fcc_a=fcc_a)\n",
    "\n",
    "def fluid_structure(basis, N, rmin, wall=[0,0,0]):\n",
    "    coordinates = []\n",
    "    N1 = int(wall[0]/rmin)\n",
    "    N2 = int(wall[1]/rmin)\n",
    "    N3 = int(wall[2]/rmin)\n",
    "    N_full = N1*N2*N3\n",
    "    print (N_full, N)\n",
    "    N_choice=np.random.choice(N_full, N)\n",
    "    N_current = 0\n",
    "    for i1 in range(N1):\n",
    "        for i2 in range(N2):\n",
    "            for i3 in range(N3):\n",
    "                if N_current in N_choice:\n",
    "                    coordinates.append(basis+np.array([i1*rmin, i2*rmin, i3*rmin]))\n",
    "                N_current += 1\n",
    "    return coordinates\n",
    "\n",
    "fluid_coordinates = fluid_structure(basis=np.array([n1+1,0,0])*fcc_a, \n",
    "                                           N=N_fluid, \n",
    "                                           rmin=rmin, \n",
    "                                           wall=[n1*fcc_a, n2*fcc_a, n3*fcc_a])\n",
    "full_coordinates = fcc_coordinates + fluid_coordinates\n",
    "from ase import Atoms\n",
    "h_positions = Atoms('H{:d}O{:d}'.format(len(fcc_coordinates),len(fluid_coordinates)), positions=full_coordinates, cell=[n1*fcc_a*2, n2*fcc_a, n3*fcc_a], pbc=[1,1,1])\n",
    "from ase.visualize import view\n",
    "view(h_positions, viewer='ngl')"
   ]
  },
  {
   "cell_type": "code",
   "execution_count": 25,
   "id": "62c1d658-420e-4085-a6ca-9ff819714b93",
   "metadata": {},
   "outputs": [
    {
     "ename": "AttributeError",
     "evalue": "module 'ase.io' has no attribute 'write_lammps_data'",
     "output_type": "error",
     "traceback": [
      "\u001b[0;31m---------------------------------------------------------------------------\u001b[0m",
      "\u001b[0;31mAttributeError\u001b[0m                            Traceback (most recent call last)",
      "\u001b[0;32m/tmp/ipykernel_1014582/3585451749.py\u001b[0m in \u001b[0;36m<module>\u001b[0;34m\u001b[0m\n\u001b[1;32m      1\u001b[0m \u001b[0;32mimport\u001b[0m \u001b[0mase\u001b[0m\u001b[0;34m.\u001b[0m\u001b[0mio\u001b[0m \u001b[0;32mas\u001b[0m \u001b[0mlammpsdata\u001b[0m\u001b[0;34m\u001b[0m\u001b[0;34m\u001b[0m\u001b[0m\n\u001b[0;32m----> 2\u001b[0;31m \u001b[0mlammpsdata\u001b[0m\u001b[0;34m.\u001b[0m\u001b[0mwrite_lammps_data\u001b[0m\u001b[0;34m(\u001b[0m\u001b[0;34m\"initial.lammps\"\u001b[0m\u001b[0;34m,\u001b[0m \u001b[0mh_positions\u001b[0m\u001b[0;34m)\u001b[0m\u001b[0;34m\u001b[0m\u001b[0;34m\u001b[0m\u001b[0m\n\u001b[0m",
      "\u001b[0;31mAttributeError\u001b[0m: module 'ase.io' has no attribute 'write_lammps_data'"
     ]
    }
   ],
   "source": [
    "import ase.io as lammpsdata\n",
    "lammpsdata.write_lammps_data(\"initial.lammps\", h_positions)"
   ]
  },
  {
   "cell_type": "code",
   "execution_count": 27,
   "id": "b704c100-e835-4737-8b7e-c367dbb1f912",
   "metadata": {},
   "outputs": [
    {
     "ename": "NameError",
     "evalue": "name 'tqdm' is not defined",
     "output_type": "error",
     "traceback": [
      "\u001b[0;31m---------------------------------------------------------------------------\u001b[0m",
      "\u001b[0;31mNameError\u001b[0m                                 Traceback (most recent call last)",
      "\u001b[0;32m/tmp/ipykernel_1014582/1404180022.py\u001b[0m in \u001b[0;36m<module>\u001b[0;34m\u001b[0m\n\u001b[1;32m      2\u001b[0m \u001b[0mrcut\u001b[0m \u001b[0;34m=\u001b[0m \u001b[0;36m0.5\u001b[0m\u001b[0;34m\u001b[0m\u001b[0;34m\u001b[0m\u001b[0m\n\u001b[1;32m      3\u001b[0m \u001b[0mn\u001b[0m \u001b[0;34m=\u001b[0m \u001b[0mlen\u001b[0m\u001b[0;34m(\u001b[0m\u001b[0mfull_coordinates\u001b[0m\u001b[0;34m)\u001b[0m\u001b[0;34m\u001b[0m\u001b[0;34m\u001b[0m\u001b[0m\n\u001b[0;32m----> 4\u001b[0;31m \u001b[0;32mfor\u001b[0m \u001b[0mi1\u001b[0m \u001b[0;32min\u001b[0m \u001b[0mtqdm\u001b[0m\u001b[0;34m(\u001b[0m\u001b[0mrange\u001b[0m\u001b[0;34m(\u001b[0m\u001b[0mn\u001b[0m\u001b[0;34m)\u001b[0m\u001b[0;34m)\u001b[0m\u001b[0;34m:\u001b[0m\u001b[0;34m\u001b[0m\u001b[0;34m\u001b[0m\u001b[0m\n\u001b[0m\u001b[1;32m      5\u001b[0m     \u001b[0;32mfor\u001b[0m \u001b[0mi2\u001b[0m \u001b[0;32min\u001b[0m \u001b[0mrange\u001b[0m\u001b[0;34m(\u001b[0m\u001b[0mi1\u001b[0m\u001b[0;34m+\u001b[0m\u001b[0;36m1\u001b[0m\u001b[0;34m,\u001b[0m\u001b[0mn\u001b[0m\u001b[0;34m)\u001b[0m\u001b[0;34m:\u001b[0m\u001b[0;34m\u001b[0m\u001b[0;34m\u001b[0m\u001b[0m\n\u001b[1;32m      6\u001b[0m         \u001b[0;32mif\u001b[0m \u001b[0;34m(\u001b[0m\u001b[0mnp\u001b[0m\u001b[0;34m.\u001b[0m\u001b[0mlinalg\u001b[0m\u001b[0;34m.\u001b[0m\u001b[0mnorm\u001b[0m\u001b[0;34m(\u001b[0m\u001b[0mfull_coordinates\u001b[0m\u001b[0;34m[\u001b[0m\u001b[0mi1\u001b[0m\u001b[0;34m]\u001b[0m\u001b[0;34m-\u001b[0m\u001b[0mfull_coordinates\u001b[0m\u001b[0;34m[\u001b[0m\u001b[0mi2\u001b[0m\u001b[0;34m]\u001b[0m\u001b[0;34m)\u001b[0m\u001b[0;34m<\u001b[0m\u001b[0mrcut\u001b[0m\u001b[0;34m)\u001b[0m\u001b[0;34m:\u001b[0m\u001b[0;34m\u001b[0m\u001b[0;34m\u001b[0m\u001b[0m\n",
      "\u001b[0;31mNameError\u001b[0m: name 'tqdm' is not defined"
     ]
    }
   ],
   "source": [
    "# test nearest atoms\n",
    "rcut = 0.5\n",
    "n = len(full_coordinates)\n",
    "for i1 in tqdm(range(n)):\n",
    "    for i2 in range(i1+1,n):\n",
    "        if (np.linalg.norm(full_coordinates[i1]-full_coordinates[i2])<rcut):\n",
    "            print(\"dsdsddcd\")"
   ]
  },
  {
   "cell_type": "code",
   "execution_count": null,
   "id": "e9591c0d-7127-426d-8112-9a65c0242572",
   "metadata": {},
   "outputs": [],
   "source": [
    "form ase.io"
   ]
  },
  {
   "cell_type": "code",
   "execution_count": null,
   "id": "3e7243c1-c827-4782-bf7d-93ff511bfdbe",
   "metadata": {},
   "outputs": [],
   "source": []
  }
 ],
 "metadata": {
  "kernelspec": {
   "display_name": "Python 3 (ipykernel)",
   "language": "python",
   "name": "python3"
  },
  "language_info": {
   "codemirror_mode": {
    "name": "ipython",
    "version": 3
   },
   "file_extension": ".py",
   "mimetype": "text/x-python",
   "name": "python",
   "nbconvert_exporter": "python",
   "pygments_lexer": "ipython3",
   "version": "3.9.7"
  }
 },
 "nbformat": 4,
 "nbformat_minor": 5
}
